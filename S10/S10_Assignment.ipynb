{
  "nbformat": 4,
  "nbformat_minor": 0,
  "metadata": {
    "colab": {
      "name": "S10_Assignment.ipynb",
      "provenance": [],
      "authorship_tag": "ABX9TyOLafl3wvGox8bSp/Q6bSQm",
      "include_colab_link": true
    },
    "kernelspec": {
      "name": "python3",
      "display_name": "Python 3"
    },
    "accelerator": "GPU",
    "widgets": {
      "application/vnd.jupyter.widget-state+json": {
        "9ef67c7e2a9a42f6abcd72333b8e76da": {
          "model_module": "@jupyter-widgets/controls",
          "model_name": "HBoxModel",
          "state": {
            "_view_name": "HBoxView",
            "_dom_classes": [],
            "_model_name": "HBoxModel",
            "_view_module": "@jupyter-widgets/controls",
            "_model_module_version": "1.5.0",
            "_view_count": null,
            "_view_module_version": "1.5.0",
            "box_style": "",
            "layout": "IPY_MODEL_851507e8289c495abb28d512e3668dd0",
            "_model_module": "@jupyter-widgets/controls",
            "children": [
              "IPY_MODEL_09642e1c4b67402c849131ce49e21111",
              "IPY_MODEL_99daf36fadbe4151a1ce5ac66814c936"
            ]
          }
        },
        "851507e8289c495abb28d512e3668dd0": {
          "model_module": "@jupyter-widgets/base",
          "model_name": "LayoutModel",
          "state": {
            "_view_name": "LayoutView",
            "grid_template_rows": null,
            "right": null,
            "justify_content": null,
            "_view_module": "@jupyter-widgets/base",
            "overflow": null,
            "_model_module_version": "1.2.0",
            "_view_count": null,
            "flex_flow": null,
            "width": null,
            "min_width": null,
            "border": null,
            "align_items": null,
            "bottom": null,
            "_model_module": "@jupyter-widgets/base",
            "top": null,
            "grid_column": null,
            "overflow_y": null,
            "overflow_x": null,
            "grid_auto_flow": null,
            "grid_area": null,
            "grid_template_columns": null,
            "flex": null,
            "_model_name": "LayoutModel",
            "justify_items": null,
            "grid_row": null,
            "max_height": null,
            "align_content": null,
            "visibility": null,
            "align_self": null,
            "height": null,
            "min_height": null,
            "padding": null,
            "grid_auto_rows": null,
            "grid_gap": null,
            "max_width": null,
            "order": null,
            "_view_module_version": "1.2.0",
            "grid_template_areas": null,
            "object_position": null,
            "object_fit": null,
            "grid_auto_columns": null,
            "margin": null,
            "display": null,
            "left": null
          }
        },
        "09642e1c4b67402c849131ce49e21111": {
          "model_module": "@jupyter-widgets/controls",
          "model_name": "IntProgressModel",
          "state": {
            "_view_name": "ProgressView",
            "style": "IPY_MODEL_4d73f76e530e4dd9b3a0d8b7fbf33129",
            "_dom_classes": [],
            "description": "",
            "_model_name": "IntProgressModel",
            "bar_style": "info",
            "max": 1,
            "_view_module": "@jupyter-widgets/controls",
            "_model_module_version": "1.5.0",
            "value": 1,
            "_view_count": null,
            "_view_module_version": "1.5.0",
            "orientation": "horizontal",
            "min": 0,
            "description_tooltip": null,
            "_model_module": "@jupyter-widgets/controls",
            "layout": "IPY_MODEL_aa8fd1ef9c9d41bcaef6d45f5489acfc"
          }
        },
        "99daf36fadbe4151a1ce5ac66814c936": {
          "model_module": "@jupyter-widgets/controls",
          "model_name": "HTMLModel",
          "state": {
            "_view_name": "HTMLView",
            "style": "IPY_MODEL_c1a0b326de6b447380d2bce72058a24c",
            "_dom_classes": [],
            "description": "",
            "_model_name": "HTMLModel",
            "placeholder": "​",
            "_view_module": "@jupyter-widgets/controls",
            "_model_module_version": "1.5.0",
            "value": " 170500096/? [00:30&lt;00:00, 17636690.50it/s]",
            "_view_count": null,
            "_view_module_version": "1.5.0",
            "description_tooltip": null,
            "_model_module": "@jupyter-widgets/controls",
            "layout": "IPY_MODEL_eecc16f3465c4e30acd7b48c1757ec17"
          }
        },
        "4d73f76e530e4dd9b3a0d8b7fbf33129": {
          "model_module": "@jupyter-widgets/controls",
          "model_name": "ProgressStyleModel",
          "state": {
            "_view_name": "StyleView",
            "_model_name": "ProgressStyleModel",
            "description_width": "initial",
            "_view_module": "@jupyter-widgets/base",
            "_model_module_version": "1.5.0",
            "_view_count": null,
            "_view_module_version": "1.2.0",
            "bar_color": null,
            "_model_module": "@jupyter-widgets/controls"
          }
        },
        "aa8fd1ef9c9d41bcaef6d45f5489acfc": {
          "model_module": "@jupyter-widgets/base",
          "model_name": "LayoutModel",
          "state": {
            "_view_name": "LayoutView",
            "grid_template_rows": null,
            "right": null,
            "justify_content": null,
            "_view_module": "@jupyter-widgets/base",
            "overflow": null,
            "_model_module_version": "1.2.0",
            "_view_count": null,
            "flex_flow": null,
            "width": null,
            "min_width": null,
            "border": null,
            "align_items": null,
            "bottom": null,
            "_model_module": "@jupyter-widgets/base",
            "top": null,
            "grid_column": null,
            "overflow_y": null,
            "overflow_x": null,
            "grid_auto_flow": null,
            "grid_area": null,
            "grid_template_columns": null,
            "flex": null,
            "_model_name": "LayoutModel",
            "justify_items": null,
            "grid_row": null,
            "max_height": null,
            "align_content": null,
            "visibility": null,
            "align_self": null,
            "height": null,
            "min_height": null,
            "padding": null,
            "grid_auto_rows": null,
            "grid_gap": null,
            "max_width": null,
            "order": null,
            "_view_module_version": "1.2.0",
            "grid_template_areas": null,
            "object_position": null,
            "object_fit": null,
            "grid_auto_columns": null,
            "margin": null,
            "display": null,
            "left": null
          }
        },
        "c1a0b326de6b447380d2bce72058a24c": {
          "model_module": "@jupyter-widgets/controls",
          "model_name": "DescriptionStyleModel",
          "state": {
            "_view_name": "StyleView",
            "_model_name": "DescriptionStyleModel",
            "description_width": "",
            "_view_module": "@jupyter-widgets/base",
            "_model_module_version": "1.5.0",
            "_view_count": null,
            "_view_module_version": "1.2.0",
            "_model_module": "@jupyter-widgets/controls"
          }
        },
        "eecc16f3465c4e30acd7b48c1757ec17": {
          "model_module": "@jupyter-widgets/base",
          "model_name": "LayoutModel",
          "state": {
            "_view_name": "LayoutView",
            "grid_template_rows": null,
            "right": null,
            "justify_content": null,
            "_view_module": "@jupyter-widgets/base",
            "overflow": null,
            "_model_module_version": "1.2.0",
            "_view_count": null,
            "flex_flow": null,
            "width": null,
            "min_width": null,
            "border": null,
            "align_items": null,
            "bottom": null,
            "_model_module": "@jupyter-widgets/base",
            "top": null,
            "grid_column": null,
            "overflow_y": null,
            "overflow_x": null,
            "grid_auto_flow": null,
            "grid_area": null,
            "grid_template_columns": null,
            "flex": null,
            "_model_name": "LayoutModel",
            "justify_items": null,
            "grid_row": null,
            "max_height": null,
            "align_content": null,
            "visibility": null,
            "align_self": null,
            "height": null,
            "min_height": null,
            "padding": null,
            "grid_auto_rows": null,
            "grid_gap": null,
            "max_width": null,
            "order": null,
            "_view_module_version": "1.2.0",
            "grid_template_areas": null,
            "object_position": null,
            "object_fit": null,
            "grid_auto_columns": null,
            "margin": null,
            "display": null,
            "left": null
          }
        },
        "5eb6b9191fc547d7a871db827bc16c29": {
          "model_module": "@jupyter-widgets/controls",
          "model_name": "HBoxModel",
          "state": {
            "_view_name": "HBoxView",
            "_dom_classes": [],
            "_model_name": "HBoxModel",
            "_view_module": "@jupyter-widgets/controls",
            "_model_module_version": "1.5.0",
            "_view_count": null,
            "_view_module_version": "1.5.0",
            "box_style": "",
            "layout": "IPY_MODEL_0897d89bc1cb4aa8be9dc1704d5e6f21",
            "_model_module": "@jupyter-widgets/controls",
            "children": [
              "IPY_MODEL_7e58ae7a9e034862b935e4f2c51fa28e",
              "IPY_MODEL_34d92a46e7be41d59f55c7bbab2796e9"
            ]
          }
        },
        "0897d89bc1cb4aa8be9dc1704d5e6f21": {
          "model_module": "@jupyter-widgets/base",
          "model_name": "LayoutModel",
          "state": {
            "_view_name": "LayoutView",
            "grid_template_rows": null,
            "right": null,
            "justify_content": null,
            "_view_module": "@jupyter-widgets/base",
            "overflow": null,
            "_model_module_version": "1.2.0",
            "_view_count": null,
            "flex_flow": null,
            "width": null,
            "min_width": null,
            "border": null,
            "align_items": null,
            "bottom": null,
            "_model_module": "@jupyter-widgets/base",
            "top": null,
            "grid_column": null,
            "overflow_y": null,
            "overflow_x": null,
            "grid_auto_flow": null,
            "grid_area": null,
            "grid_template_columns": null,
            "flex": null,
            "_model_name": "LayoutModel",
            "justify_items": null,
            "grid_row": null,
            "max_height": null,
            "align_content": null,
            "visibility": null,
            "align_self": null,
            "height": null,
            "min_height": null,
            "padding": null,
            "grid_auto_rows": null,
            "grid_gap": null,
            "max_width": null,
            "order": null,
            "_view_module_version": "1.2.0",
            "grid_template_areas": null,
            "object_position": null,
            "object_fit": null,
            "grid_auto_columns": null,
            "margin": null,
            "display": null,
            "left": null
          }
        },
        "7e58ae7a9e034862b935e4f2c51fa28e": {
          "model_module": "@jupyter-widgets/controls",
          "model_name": "IntProgressModel",
          "state": {
            "_view_name": "ProgressView",
            "style": "IPY_MODEL_0f80277d107840a185fda34442c36266",
            "_dom_classes": [],
            "description": " 79%",
            "_model_name": "IntProgressModel",
            "bar_style": "danger",
            "max": 391,
            "_view_module": "@jupyter-widgets/controls",
            "_model_module_version": "1.5.0",
            "value": 310,
            "_view_count": null,
            "_view_module_version": "1.5.0",
            "orientation": "horizontal",
            "min": 0,
            "description_tooltip": null,
            "_model_module": "@jupyter-widgets/controls",
            "layout": "IPY_MODEL_ad80b7a36c484cdea5092f9457cac788"
          }
        },
        "34d92a46e7be41d59f55c7bbab2796e9": {
          "model_module": "@jupyter-widgets/controls",
          "model_name": "HTMLModel",
          "state": {
            "_view_name": "HTMLView",
            "style": "IPY_MODEL_f46215ee694f4ad7b1e11630627136fb",
            "_dom_classes": [],
            "description": "",
            "_model_name": "HTMLModel",
            "placeholder": "​",
            "_view_module": "@jupyter-widgets/controls",
            "_model_module_version": "1.5.0",
            "value": " 310/391 [13:07&lt;03:28,  2.57s/it]",
            "_view_count": null,
            "_view_module_version": "1.5.0",
            "description_tooltip": null,
            "_model_module": "@jupyter-widgets/controls",
            "layout": "IPY_MODEL_e5fbfa7ec17449e8b21ef9aaba6878ff"
          }
        },
        "0f80277d107840a185fda34442c36266": {
          "model_module": "@jupyter-widgets/controls",
          "model_name": "ProgressStyleModel",
          "state": {
            "_view_name": "StyleView",
            "_model_name": "ProgressStyleModel",
            "description_width": "initial",
            "_view_module": "@jupyter-widgets/base",
            "_model_module_version": "1.5.0",
            "_view_count": null,
            "_view_module_version": "1.2.0",
            "bar_color": null,
            "_model_module": "@jupyter-widgets/controls"
          }
        },
        "ad80b7a36c484cdea5092f9457cac788": {
          "model_module": "@jupyter-widgets/base",
          "model_name": "LayoutModel",
          "state": {
            "_view_name": "LayoutView",
            "grid_template_rows": null,
            "right": null,
            "justify_content": null,
            "_view_module": "@jupyter-widgets/base",
            "overflow": null,
            "_model_module_version": "1.2.0",
            "_view_count": null,
            "flex_flow": null,
            "width": null,
            "min_width": null,
            "border": null,
            "align_items": null,
            "bottom": null,
            "_model_module": "@jupyter-widgets/base",
            "top": null,
            "grid_column": null,
            "overflow_y": null,
            "overflow_x": null,
            "grid_auto_flow": null,
            "grid_area": null,
            "grid_template_columns": null,
            "flex": null,
            "_model_name": "LayoutModel",
            "justify_items": null,
            "grid_row": null,
            "max_height": null,
            "align_content": null,
            "visibility": null,
            "align_self": null,
            "height": null,
            "min_height": null,
            "padding": null,
            "grid_auto_rows": null,
            "grid_gap": null,
            "max_width": null,
            "order": null,
            "_view_module_version": "1.2.0",
            "grid_template_areas": null,
            "object_position": null,
            "object_fit": null,
            "grid_auto_columns": null,
            "margin": null,
            "display": null,
            "left": null
          }
        },
        "f46215ee694f4ad7b1e11630627136fb": {
          "model_module": "@jupyter-widgets/controls",
          "model_name": "DescriptionStyleModel",
          "state": {
            "_view_name": "StyleView",
            "_model_name": "DescriptionStyleModel",
            "description_width": "",
            "_view_module": "@jupyter-widgets/base",
            "_model_module_version": "1.5.0",
            "_view_count": null,
            "_view_module_version": "1.2.0",
            "_model_module": "@jupyter-widgets/controls"
          }
        },
        "e5fbfa7ec17449e8b21ef9aaba6878ff": {
          "model_module": "@jupyter-widgets/base",
          "model_name": "LayoutModel",
          "state": {
            "_view_name": "LayoutView",
            "grid_template_rows": null,
            "right": null,
            "justify_content": null,
            "_view_module": "@jupyter-widgets/base",
            "overflow": null,
            "_model_module_version": "1.2.0",
            "_view_count": null,
            "flex_flow": null,
            "width": null,
            "min_width": null,
            "border": null,
            "align_items": null,
            "bottom": null,
            "_model_module": "@jupyter-widgets/base",
            "top": null,
            "grid_column": null,
            "overflow_y": null,
            "overflow_x": null,
            "grid_auto_flow": null,
            "grid_area": null,
            "grid_template_columns": null,
            "flex": null,
            "_model_name": "LayoutModel",
            "justify_items": null,
            "grid_row": null,
            "max_height": null,
            "align_content": null,
            "visibility": null,
            "align_self": null,
            "height": null,
            "min_height": null,
            "padding": null,
            "grid_auto_rows": null,
            "grid_gap": null,
            "max_width": null,
            "order": null,
            "_view_module_version": "1.2.0",
            "grid_template_areas": null,
            "object_position": null,
            "object_fit": null,
            "grid_auto_columns": null,
            "margin": null,
            "display": null,
            "left": null
          }
        }
      }
    }
  },
  "cells": [
    {
      "cell_type": "markdown",
      "metadata": {
        "id": "view-in-github",
        "colab_type": "text"
      },
      "source": [
        "<a href=\"https://colab.research.google.com/github/johnjkiran/TSAI/blob/master/S10/S10_Assignment.ipynb\" target=\"_parent\"><img src=\"https://colab.research.google.com/assets/colab-badge.svg\" alt=\"Open In Colab\"/></a>"
      ]
    },
    {
      "cell_type": "code",
      "metadata": {
        "id": "w3WCgK-314xu",
        "colab_type": "code",
        "colab": {
          "base_uri": "https://localhost:8080/",
          "height": 36
        },
        "outputId": "2b4ece8d-32ec-4ad4-b4fe-fe3f36542713"
      },
      "source": [
        "from google.colab import drive\n",
        "drive.mount('/content/drive/')"
      ],
      "execution_count": 29,
      "outputs": [
        {
          "output_type": "stream",
          "text": [
            "Drive already mounted at /content/drive/; to attempt to forcibly remount, call drive.mount(\"/content/drive/\", force_remount=True).\n"
          ],
          "name": "stdout"
        }
      ]
    },
    {
      "cell_type": "code",
      "metadata": {
        "id": "sMCwQQA8vBeO",
        "colab_type": "code",
        "colab": {}
      },
      "source": [
        "import sys\n",
        "sys.path.append('/content/drive/My Drive/Colab Notebooks/S10')"
      ],
      "execution_count": 0,
      "outputs": []
    },
    {
      "cell_type": "code",
      "metadata": {
        "id": "GrIw9x1H3bGt",
        "colab_type": "code",
        "colab": {}
      },
      "source": [
        "import torch\n",
        "import torchvision\n",
        "import torch.nn as nn\n",
        "import torch.optim as optim\n",
        "from torch.optim.lr_scheduler import ReduceLROnPlateau"
      ],
      "execution_count": 0,
      "outputs": []
    },
    {
      "cell_type": "code",
      "metadata": {
        "id": "Wpqs19K_90ha",
        "colab_type": "code",
        "colab": {
          "base_uri": "https://localhost:8080/",
          "height": 240
        },
        "outputId": "35439a7b-3c97-4e1a-b134-da813c98d38f"
      },
      "source": [
        "from importlib.machinery import SourceFileLoader\n",
        "from os.path import join\n",
        "config = SourceFileLoader('config',join('/content/drive/My Drive/Colab Notebooks/S10','config.py')).load_module()\n",
        "from config import model_config\n",
        "utills = SourceFileLoader('utills',join('/content/drive/My Drive/Colab Notebooks/S10','utills.py')).load_module()\n",
        "from utills import *\n",
        "args = model_config()\n",
        "args.print_config()\n",
        "init_seed(args)"
      ],
      "execution_count": 4,
      "outputs": [
        {
          "output_type": "stream",
          "text": [
            "Model Parameters:\n",
            "{ 'batch_size_cpu': 128,\n",
            "  'batch_size_cuda': 128,\n",
            "  'dropout': 0.15,\n",
            "  'epochs': 50,\n",
            "  'l1_decay': 3e-06,\n",
            "  'l2_decay': 0.001,\n",
            "  'lr': 0.001,\n",
            "  'momentum': 0.9,\n",
            "  'num_workers': 4,\n",
            "  'seed': 1}\n",
            "CUDA Available\n"
          ],
          "name": "stdout"
        }
      ]
    },
    {
      "cell_type": "code",
      "metadata": {
        "id": "DIqOGvtukEKE",
        "colab_type": "code",
        "colab": {
          "base_uri": "https://localhost:8080/",
          "height": 227,
          "referenced_widgets": [
            "9ef67c7e2a9a42f6abcd72333b8e76da",
            "851507e8289c495abb28d512e3668dd0",
            "09642e1c4b67402c849131ce49e21111",
            "99daf36fadbe4151a1ce5ac66814c936",
            "4d73f76e530e4dd9b3a0d8b7fbf33129",
            "aa8fd1ef9c9d41bcaef6d45f5489acfc",
            "c1a0b326de6b447380d2bce72058a24c",
            "eecc16f3465c4e30acd7b48c1757ec17"
          ]
        },
        "outputId": "23997e04-faf7-44a3-99f0-f40b33f24dd0"
      },
      "source": [
        "# !pip install albumentations==0.4.5\n",
        "data_transform = SourceFileLoader('data_transform',join('/content/drive/My Drive/Colab Notebooks/S10','data_transform.py')).load_module()\n",
        "data_engine = SourceFileLoader('data_engine',join('/content/drive/My Drive/Colab Notebooks/S10','data_engine.py')).load_module()\n",
        "from data_engine import DataEngine\n",
        "data = DataEngine(args)\n",
        "\n",
        "# Training images\n",
        "dataiter = iter(data.train_loader)\n",
        "images, labels = dataiter.next()\n",
        "\n",
        "imshow(torchvision.utils.make_grid(images[:5]))\n",
        "print(' '.join('%5s' % data.classes[labels[j]] for j in range(5)))\n"
      ],
      "execution_count": 5,
      "outputs": [
        {
          "output_type": "stream",
          "text": [
            "Downloading https://www.cs.toronto.edu/~kriz/cifar-10-python.tar.gz to ./data/cifar-10-python.tar.gz\n"
          ],
          "name": "stdout"
        },
        {
          "output_type": "display_data",
          "data": {
            "application/vnd.jupyter.widget-view+json": {
              "model_id": "9ef67c7e2a9a42f6abcd72333b8e76da",
              "version_minor": 0,
              "version_major": 2
            },
            "text/plain": [
              "HBox(children=(IntProgress(value=1, bar_style='info', max=1), HTML(value='')))"
            ]
          },
          "metadata": {
            "tags": []
          }
        },
        {
          "output_type": "stream",
          "text": [
            "Extracting ./data/cifar-10-python.tar.gz to ./data\n",
            "Files already downloaded and verified\n",
            "airplane   dog  deer  deer truck\n"
          ],
          "name": "stdout"
        },
        {
          "output_type": "display_data",
          "data": {
            "image/png": "[encoded data removed]",
            "text/plain": [
              "<Figure size 432x288 with 1 Axes>"
            ]
          },
          "metadata": {
            "tags": []
          }
        }
      ]
    },
    {
      "cell_type": "code",
      "metadata": {
        "id": "zX9Ru8E0ncEF",
        "colab_type": "code",
        "colab": {
          "base_uri": "https://localhost:8080/",
          "height": 1000
        },
        "outputId": "cfb69fb4-5eb6-484c-eb96-01fc3c833c85"
      },
      "source": [
        "resnet = SourceFileLoader('resnet',join('/content/drive/My Drive/Colab Notebooks/S10','resnet.py')).load_module()\n",
        "from resnet import ResNet18\n",
        "device = which_device()\n",
        "net = ResNet18(args.dropout)\n",
        "model = net.to(device)\n",
        "show_model_summary(model,(3,32,32))"
      ],
      "execution_count": 20,
      "outputs": [
        {
          "output_type": "stream",
          "text": [
            "----------------------------------------------------------------\n",
            "        Layer (type)               Output Shape         Param #\n",
            "================================================================\n",
            "            Conv2d-1           [-1, 64, 32, 32]           1,728\n",
            "       BatchNorm2d-2           [-1, 64, 32, 32]             128\n",
            "            Conv2d-3           [-1, 64, 32, 32]          36,864\n",
            "       BatchNorm2d-4           [-1, 64, 32, 32]             128\n",
            "            Conv2d-5           [-1, 64, 32, 32]          36,864\n",
            "       BatchNorm2d-6           [-1, 64, 32, 32]             128\n",
            "        BasicBlock-7           [-1, 64, 32, 32]               0\n",
            "            Conv2d-8           [-1, 64, 32, 32]          36,864\n",
            "       BatchNorm2d-9           [-1, 64, 32, 32]             128\n",
            "           Conv2d-10           [-1, 64, 32, 32]          36,864\n",
            "      BatchNorm2d-11           [-1, 64, 32, 32]             128\n",
            "       BasicBlock-12           [-1, 64, 32, 32]               0\n",
            "           Conv2d-13          [-1, 128, 16, 16]          73,728\n",
            "      BatchNorm2d-14          [-1, 128, 16, 16]             256\n",
            "           Conv2d-15          [-1, 128, 16, 16]         147,456\n",
            "      BatchNorm2d-16          [-1, 128, 16, 16]             256\n",
            "           Conv2d-17          [-1, 128, 16, 16]           8,192\n",
            "      BatchNorm2d-18          [-1, 128, 16, 16]             256\n",
            "       BasicBlock-19          [-1, 128, 16, 16]               0\n",
            "           Conv2d-20          [-1, 128, 16, 16]         147,456\n",
            "      BatchNorm2d-21          [-1, 128, 16, 16]             256\n",
            "           Conv2d-22          [-1, 128, 16, 16]         147,456\n",
            "      BatchNorm2d-23          [-1, 128, 16, 16]             256\n",
            "       BasicBlock-24          [-1, 128, 16, 16]               0\n",
            "           Conv2d-25            [-1, 256, 8, 8]         294,912\n",
            "      BatchNorm2d-26            [-1, 256, 8, 8]             512\n",
            "           Conv2d-27            [-1, 256, 8, 8]         589,824\n",
            "      BatchNorm2d-28            [-1, 256, 8, 8]             512\n",
            "           Conv2d-29            [-1, 256, 8, 8]          32,768\n",
            "      BatchNorm2d-30            [-1, 256, 8, 8]             512\n",
            "       BasicBlock-31            [-1, 256, 8, 8]               0\n",
            "           Conv2d-32            [-1, 256, 8, 8]         589,824\n",
            "      BatchNorm2d-33            [-1, 256, 8, 8]             512\n",
            "           Conv2d-34            [-1, 256, 8, 8]         589,824\n",
            "      BatchNorm2d-35            [-1, 256, 8, 8]             512\n",
            "       BasicBlock-36            [-1, 256, 8, 8]               0\n",
            "           Conv2d-37            [-1, 512, 4, 4]       1,179,648\n",
            "      BatchNorm2d-38            [-1, 512, 4, 4]           1,024\n",
            "           Conv2d-39            [-1, 512, 4, 4]       2,359,296\n",
            "      BatchNorm2d-40            [-1, 512, 4, 4]           1,024\n",
            "           Conv2d-41            [-1, 512, 4, 4]         131,072\n",
            "      BatchNorm2d-42            [-1, 512, 4, 4]           1,024\n",
            "       BasicBlock-43            [-1, 512, 4, 4]               0\n",
            "           Conv2d-44            [-1, 512, 4, 4]       2,359,296\n",
            "      BatchNorm2d-45            [-1, 512, 4, 4]           1,024\n",
            "           Conv2d-46            [-1, 512, 4, 4]       2,359,296\n",
            "      BatchNorm2d-47            [-1, 512, 4, 4]           1,024\n",
            "       BasicBlock-48            [-1, 512, 4, 4]               0\n",
            "           Linear-49                   [-1, 10]           5,130\n",
            "================================================================\n",
            "Total params: 11,173,962\n",
            "Trainable params: 11,173,962\n",
            "Non-trainable params: 0\n",
            "----------------------------------------------------------------\n",
            "Input size (MB): 0.01\n",
            "Forward/backward pass size (MB): 11.25\n",
            "Params size (MB): 42.63\n",
            "Estimated Total Size (MB): 53.89\n",
            "----------------------------------------------------------------\n",
            "None\n"
          ],
          "name": "stdout"
        }
      ]
    },
    {
      "cell_type": "markdown",
      "metadata": {
        "id": "bPL6_YzsuYjH",
        "colab_type": "text"
      },
      "source": [
        "LR Finder"
      ]
    },
    {
      "cell_type": "code",
      "metadata": {
        "id": "Zhva8_LQuaqW",
        "colab_type": "code",
        "colab": {
          "base_uri": "https://localhost:8080/",
          "height": 352,
          "referenced_widgets": [
            "5eb6b9191fc547d7a871db827bc16c29",
            "0897d89bc1cb4aa8be9dc1704d5e6f21",
            "7e58ae7a9e034862b935e4f2c51fa28e",
            "34d92a46e7be41d59f55c7bbab2796e9",
            "0f80277d107840a185fda34442c36266",
            "ad80b7a36c484cdea5092f9457cac788",
            "f46215ee694f4ad7b1e11630627136fb",
            "e5fbfa7ec17449e8b21ef9aaba6878ff"
          ]
        },
        "outputId": "88cf2ca0-1ae7-43d2-dd84-9fd2f6c86573"
      },
      "source": [
        "from lr_finder import LRFinder\n",
        "criterion = nn.CrossEntropyLoss()\n",
        "optimizer = optim.SGD(model.parameters(),lr=args.lr,momentum=args.momentum)\n",
        "lr_finder = LRFinder(model,optimizer=optimizer,criterion=criterion,device=device)\n",
        "lr_finder.range_test(data.train_loader, val_loader=data.test_loader, start_lr=1e-5, end_lr=1,\n",
        "                     num_iter=len(data.train_loader), step_mode=\"exp\")\n",
        "lr_finder.plot()\n",
        "lr_finder.reset()"
      ],
      "execution_count": 23,
      "outputs": [
        {
          "output_type": "display_data",
          "data": {
            "application/vnd.jupyter.widget-view+json": {
              "model_id": "5eb6b9191fc547d7a871db827bc16c29",
              "version_minor": 0,
              "version_major": 2
            },
            "text/plain": [
              "HBox(children=(IntProgress(value=0, max=391), HTML(value='')))"
            ]
          },
          "metadata": {
            "tags": []
          }
        },
        {
          "output_type": "stream",
          "text": [
            "Stopping early, the loss has diverged\n",
            "Learning rate search finished. See the graph with {finder_name}.plot()\n"
          ],
          "name": "stdout"
        },
        {
          "output_type": "display_data",
          "data": {
            "image/png": "[encoded data removed]",
            "text/plain": [
              "<Figure size 432x288 with 1 Axes>"
            ]
          },
          "metadata": {
            "tags": []
          }
        }
      ]
    },
    {
      "cell_type": "code",
      "metadata": {
        "id": "xFBGeYCl2Lqb",
        "colab_type": "code",
        "colab": {
          "base_uri": "https://localhost:8080/",
          "height": 54
        },
        "outputId": "30bca7a4-3e72-43e1-9ba1-ad7aee313541"
      },
      "source": [
        "best_loss = lr_finder.best_loss\n",
        "best_lr = lr_finder.history[\"lr\"][lr_finder.history[\"loss\"].index(best_loss)]\n",
        "print(\"Lowest Loss %s \\n Best Learning Rate: %s\" % (best_loss,best_lr))\n",
        "args.lr = best_lr"
      ],
      "execution_count": 24,
      "outputs": [
        {
          "output_type": "stream",
          "text": [
            "Lowest Loss 1.9513268998616657 \n",
            " Best Learning Rate: 0.0044366873309786125\n"
          ],
          "name": "stdout"
        }
      ]
    },
    {
      "cell_type": "code",
      "metadata": {
        "id": "yE7R8xFC8GVs",
        "colab_type": "code",
        "colab": {}
      },
      "source": [
        "train = SourceFileLoader('train',join('/content/drive/My Drive/Colab Notebooks/S10','train.py')).load_module()\n",
        "test = SourceFileLoader('test',join('/content/drive/My Drive/Colab Notebooks/S10','test.py')).load_module()"
      ],
      "execution_count": 0,
      "outputs": []
    },
    {
      "cell_type": "code",
      "metadata": {
        "id": "K6oK1wo24af_",
        "colab_type": "code",
        "colab": {
          "base_uri": "https://localhost:8080/",
          "height": 1000
        },
        "outputId": "ad5602dc-6fb9-4a9d-c3bf-73a1f95d3124"
      },
      "source": [
        "from train import train\n",
        "from test import test\n",
        "criterion = nn.CrossEntropyLoss()\n",
        "optimizer = optim.SGD(model.parameters(), lr=args.lr, momentum=args.momentum)\n",
        "scheduler = ReduceLROnPlateau(optimizer, mode=\"min\", factor=0.1, patience=3,\n",
        "                              verbose=True, min_lr=1e-5)\n",
        "\n",
        "def model_run(l1_decay=0.0, l2_decay=0.0):\n",
        "  test_losses = []\n",
        "  test_accs = []\n",
        "  train_losses = []\n",
        "  train_accs = []\n",
        "  misclassified_imgs = []\n",
        "  correct_imgs = []\n",
        "  for epoch in range(args.epochs):\n",
        "      print(\"EPOCH:\", epoch+1)\n",
        "      train(model, device, data.train_loader, criterion, optimizer, epoch,\n",
        "            l1_decay,l2_decay, train_losses, train_accs)\n",
        "      test(model, device, data.test_loader, criterion, data.classes, test_losses, test_accs,\n",
        "           misclassified_imgs, correct_imgs, epoch==args.epochs-1)\n",
        "      scheduler.step(test_losses[-1])\n",
        "  return train_losses, train_accs, test_losses, test_accs, misclassified_imgs, correct_imgs\n",
        "\n",
        "# train and test the model\n",
        "train_losses, train_accs, test_losses, test_accs, misclassified_imgs, correct_imgs = model_run(l1_decay=args.l1_decay, l2_decay=args.l2_decay)"
      ],
      "execution_count": 33,
      "outputs": [
        {
          "output_type": "stream",
          "text": [
            "\r  0%|          | 0/391 [00:00<?, ?it/s]"
          ],
          "name": "stderr"
        },
        {
          "output_type": "stream",
          "text": [
            "EPOCH: 1\n"
          ],
          "name": "stdout"
        },
        {
          "output_type": "stream",
          "text": [
            "L2_loss=459.00921630859375 L1_loss=109101.078125 Loss=2.053227186203003 Batch_id=390 Accuracy=39.84: 100%|██████████| 391/391 [00:37<00:00, 10.31it/s]\n",
            "  0%|          | 0/391 [00:00<?, ?it/s]"
          ],
          "name": "stderr"
        },
        {
          "output_type": "stream",
          "text": [
            "Test set: Average loss: 0.0107, Accuracy: 5321/10000 (53.21%)\n",
            "\n",
            "EPOCH: 2\n"
          ],
          "name": "stdout"
        },
        {
          "output_type": "stream",
          "text": [
            "L2_loss=459.01483154296875 L1_loss=108711.40625 Loss=1.9348783493041992 Batch_id=390 Accuracy=54.33: 100%|██████████| 391/391 [00:38<00:00, 10.26it/s]\n",
            "  0%|          | 0/391 [00:00<?, ?it/s]"
          ],
          "name": "stderr"
        },
        {
          "output_type": "stream",
          "text": [
            "Test set: Average loss: 0.0083, Accuracy: 6214/10000 (62.14%)\n",
            "\n",
            "EPOCH: 3\n"
          ],
          "name": "stdout"
        },
        {
          "output_type": "stream",
          "text": [
            "L2_loss=459.0697937011719 L1_loss=108345.1015625 Loss=1.7768332958221436 Batch_id=390 Accuracy=60.80: 100%|██████████| 391/391 [00:38<00:00, 10.22it/s]\n",
            "  0%|          | 0/391 [00:00<?, ?it/s]"
          ],
          "name": "stderr"
        },
        {
          "output_type": "stream",
          "text": [
            "Test set: Average loss: 0.0081, Accuracy: 6502/10000 (65.02%)\n",
            "\n",
            "EPOCH: 4\n"
          ],
          "name": "stdout"
        },
        {
          "output_type": "stream",
          "text": [
            "L2_loss=459.056396484375 L1_loss=107981.2421875 Loss=1.6573867797851562 Batch_id=390 Accuracy=65.06: 100%|██████████| 391/391 [00:38<00:00, 10.07it/s]\n",
            "  0%|          | 0/391 [00:00<?, ?it/s]"
          ],
          "name": "stderr"
        },
        {
          "output_type": "stream",
          "text": [
            "Test set: Average loss: 0.0061, Accuracy: 7288/10000 (72.88%)\n",
            "\n",
            "EPOCH: 5\n"
          ],
          "name": "stdout"
        },
        {
          "output_type": "stream",
          "text": [
            "L2_loss=459.031494140625 L1_loss=107621.828125 Loss=1.7517955303192139 Batch_id=390 Accuracy=68.47: 100%|██████████| 391/391 [00:38<00:00, 10.22it/s]\n",
            "  0%|          | 0/391 [00:00<?, ?it/s]"
          ],
          "name": "stderr"
        },
        {
          "output_type": "stream",
          "text": [
            "Test set: Average loss: 0.0065, Accuracy: 7146/10000 (71.46%)\n",
            "\n",
            "EPOCH: 6\n"
          ],
          "name": "stdout"
        },
        {
          "output_type": "stream",
          "text": [
            "L2_loss=458.98919677734375 L1_loss=107269.1328125 Loss=1.5895493030548096 Batch_id=390 Accuracy=71.12: 100%|██████████| 391/391 [00:38<00:00, 10.17it/s]\n",
            "  0%|          | 0/391 [00:00<?, ?it/s]"
          ],
          "name": "stderr"
        },
        {
          "output_type": "stream",
          "text": [
            "Test set: Average loss: 0.0056, Accuracy: 7635/10000 (76.35%)\n",
            "\n",
            "EPOCH: 7\n"
          ],
          "name": "stdout"
        },
        {
          "output_type": "stream",
          "text": [
            "L2_loss=458.8724060058594 L1_loss=106912.4453125 Loss=1.6166528463363647 Batch_id=390 Accuracy=73.18: 100%|██████████| 391/391 [00:38<00:00, 10.20it/s]\n",
            "  0%|          | 0/391 [00:00<?, ?it/s]"
          ],
          "name": "stderr"
        },
        {
          "output_type": "stream",
          "text": [
            "Test set: Average loss: 0.0055, Accuracy: 7617/10000 (76.17%)\n",
            "\n",
            "EPOCH: 8\n"
          ],
          "name": "stdout"
        },
        {
          "output_type": "stream",
          "text": [
            "L2_loss=458.7823791503906 L1_loss=106561.3828125 Loss=1.3936368227005005 Batch_id=390 Accuracy=75.09: 100%|██████████| 391/391 [00:38<00:00, 10.10it/s]\n",
            "  0%|          | 0/391 [00:00<?, ?it/s]"
          ],
          "name": "stderr"
        },
        {
          "output_type": "stream",
          "text": [
            "Test set: Average loss: 0.0045, Accuracy: 8009/10000 (80.09%)\n",
            "\n",
            "EPOCH: 9\n"
          ],
          "name": "stdout"
        },
        {
          "output_type": "stream",
          "text": [
            "L2_loss=458.6062316894531 L1_loss=106215.21875 Loss=1.660151481628418 Batch_id=390 Accuracy=76.20: 100%|██████████| 391/391 [00:38<00:00, 10.21it/s]\n",
            "  0%|          | 0/391 [00:00<?, ?it/s]"
          ],
          "name": "stderr"
        },
        {
          "output_type": "stream",
          "text": [
            "Test set: Average loss: 0.0049, Accuracy: 7829/10000 (78.29%)\n",
            "\n",
            "EPOCH: 10\n"
          ],
          "name": "stdout"
        },
        {
          "output_type": "stream",
          "text": [
            "L2_loss=458.4438781738281 L1_loss=105871.390625 Loss=1.3372548818588257 Batch_id=390 Accuracy=77.40: 100%|██████████| 391/391 [00:38<00:00, 10.14it/s]\n",
            "  0%|          | 0/391 [00:00<?, ?it/s]"
          ],
          "name": "stderr"
        },
        {
          "output_type": "stream",
          "text": [
            "Test set: Average loss: 0.0044, Accuracy: 8134/10000 (81.34%)\n",
            "\n",
            "EPOCH: 11\n"
          ],
          "name": "stdout"
        },
        {
          "output_type": "stream",
          "text": [
            "L2_loss=458.2658386230469 L1_loss=105535.0625 Loss=1.4544874429702759 Batch_id=390 Accuracy=78.47: 100%|██████████| 391/391 [00:37<00:00, 10.30it/s]\n",
            "  0%|          | 0/391 [00:00<?, ?it/s]"
          ],
          "name": "stderr"
        },
        {
          "output_type": "stream",
          "text": [
            "Test set: Average loss: 0.0039, Accuracy: 8348/10000 (83.48%)\n",
            "\n",
            "EPOCH: 12\n"
          ],
          "name": "stdout"
        },
        {
          "output_type": "stream",
          "text": [
            "L2_loss=458.0802307128906 L1_loss=105205.65625 Loss=1.2626140117645264 Batch_id=390 Accuracy=79.77: 100%|██████████| 391/391 [00:38<00:00, 10.20it/s]\n",
            "  0%|          | 0/391 [00:00<?, ?it/s]"
          ],
          "name": "stderr"
        },
        {
          "output_type": "stream",
          "text": [
            "Test set: Average loss: 0.0039, Accuracy: 8366/10000 (83.66%)\n",
            "\n",
            "EPOCH: 13\n"
          ],
          "name": "stdout"
        },
        {
          "output_type": "stream",
          "text": [
            "L2_loss=457.86151123046875 L1_loss=104879.2890625 Loss=1.195677638053894 Batch_id=390 Accuracy=80.48: 100%|██████████| 391/391 [00:38<00:00, 10.26it/s]\n",
            "  0%|          | 0/391 [00:00<?, ?it/s]"
          ],
          "name": "stderr"
        },
        {
          "output_type": "stream",
          "text": [
            "Test set: Average loss: 0.0040, Accuracy: 8356/10000 (83.56%)\n",
            "\n",
            "EPOCH: 14\n"
          ],
          "name": "stdout"
        },
        {
          "output_type": "stream",
          "text": [
            "L2_loss=457.6665954589844 L1_loss=104560.5625 Loss=1.5846502780914307 Batch_id=390 Accuracy=81.20: 100%|██████████| 391/391 [00:38<00:00, 10.13it/s]\n",
            "  0%|          | 0/391 [00:00<?, ?it/s]"
          ],
          "name": "stderr"
        },
        {
          "output_type": "stream",
          "text": [
            "Test set: Average loss: 0.0039, Accuracy: 8332/10000 (83.32%)\n",
            "\n",
            "EPOCH: 15\n"
          ],
          "name": "stdout"
        },
        {
          "output_type": "stream",
          "text": [
            "L2_loss=457.4215393066406 L1_loss=104246.078125 Loss=1.264893889427185 Batch_id=390 Accuracy=81.71: 100%|██████████| 391/391 [00:38<00:00, 10.12it/s]\n",
            "  0%|          | 0/391 [00:00<?, ?it/s]"
          ],
          "name": "stderr"
        },
        {
          "output_type": "stream",
          "text": [
            "Test set: Average loss: 0.0039, Accuracy: 8385/10000 (83.85%)\n",
            "\n",
            "EPOCH: 16\n"
          ],
          "name": "stdout"
        },
        {
          "output_type": "stream",
          "text": [
            "L2_loss=457.2032165527344 L1_loss=103940.640625 Loss=1.2082939147949219 Batch_id=390 Accuracy=82.57: 100%|██████████| 391/391 [00:38<00:00, 10.15it/s]\n",
            "  0%|          | 0/391 [00:00<?, ?it/s]"
          ],
          "name": "stderr"
        },
        {
          "output_type": "stream",
          "text": [
            "Test set: Average loss: 0.0048, Accuracy: 8129/10000 (81.29%)\n",
            "\n",
            "EPOCH: 17\n"
          ],
          "name": "stdout"
        },
        {
          "output_type": "stream",
          "text": [
            "L2_loss=456.95330810546875 L1_loss=103636.4453125 Loss=1.2651015520095825 Batch_id=390 Accuracy=82.99: 100%|██████████| 391/391 [00:38<00:00, 10.17it/s]\n",
            "  0%|          | 0/391 [00:00<?, ?it/s]"
          ],
          "name": "stderr"
        },
        {
          "output_type": "stream",
          "text": [
            "Test set: Average loss: 0.0034, Accuracy: 8520/10000 (85.20%)\n",
            "\n",
            "EPOCH: 18\n"
          ],
          "name": "stdout"
        },
        {
          "output_type": "stream",
          "text": [
            "L2_loss=456.71099853515625 L1_loss=103332.03125 Loss=1.0704371929168701 Batch_id=390 Accuracy=83.52: 100%|██████████| 391/391 [00:38<00:00, 10.12it/s]\n",
            "  0%|          | 0/391 [00:00<?, ?it/s]"
          ],
          "name": "stderr"
        },
        {
          "output_type": "stream",
          "text": [
            "Test set: Average loss: 0.0037, Accuracy: 8456/10000 (84.56%)\n",
            "\n",
            "EPOCH: 19\n"
          ],
          "name": "stdout"
        },
        {
          "output_type": "stream",
          "text": [
            "L2_loss=456.4471435546875 L1_loss=103037.6015625 Loss=1.043393850326538 Batch_id=390 Accuracy=84.19: 100%|██████████| 391/391 [00:38<00:00, 10.15it/s]\n",
            "  0%|          | 0/391 [00:00<?, ?it/s]"
          ],
          "name": "stderr"
        },
        {
          "output_type": "stream",
          "text": [
            "Test set: Average loss: 0.0035, Accuracy: 8540/10000 (85.40%)\n",
            "\n",
            "EPOCH: 20\n"
          ],
          "name": "stdout"
        },
        {
          "output_type": "stream",
          "text": [
            "L2_loss=456.16046142578125 L1_loss=102739.390625 Loss=1.2054204940795898 Batch_id=390 Accuracy=84.52: 100%|██████████| 391/391 [00:38<00:00, 10.16it/s]\n",
            "  0%|          | 0/391 [00:00<?, ?it/s]"
          ],
          "name": "stderr"
        },
        {
          "output_type": "stream",
          "text": [
            "Test set: Average loss: 0.0033, Accuracy: 8656/10000 (86.56%)\n",
            "\n",
            "EPOCH: 21\n"
          ],
          "name": "stdout"
        },
        {
          "output_type": "stream",
          "text": [
            "L2_loss=455.8629455566406 L1_loss=102447.6875 Loss=1.1037267446517944 Batch_id=390 Accuracy=85.05: 100%|██████████| 391/391 [00:38<00:00, 10.14it/s]\n",
            "  0%|          | 0/391 [00:00<?, ?it/s]"
          ],
          "name": "stderr"
        },
        {
          "output_type": "stream",
          "text": [
            "Test set: Average loss: 0.0036, Accuracy: 8560/10000 (85.60%)\n",
            "\n",
            "EPOCH: 22\n"
          ],
          "name": "stdout"
        },
        {
          "output_type": "stream",
          "text": [
            "L2_loss=455.6040954589844 L1_loss=102170.328125 Loss=1.0897849798202515 Batch_id=390 Accuracy=85.38: 100%|██████████| 391/391 [00:38<00:00, 10.11it/s]\n",
            "  0%|          | 0/391 [00:00<?, ?it/s]"
          ],
          "name": "stderr"
        },
        {
          "output_type": "stream",
          "text": [
            "Test set: Average loss: 0.0034, Accuracy: 8620/10000 (86.20%)\n",
            "\n",
            "EPOCH: 23\n"
          ],
          "name": "stdout"
        },
        {
          "output_type": "stream",
          "text": [
            "L2_loss=455.28973388671875 L1_loss=101891.8203125 Loss=1.0889167785644531 Batch_id=390 Accuracy=85.56: 100%|██████████| 391/391 [00:38<00:00, 10.10it/s]\n",
            "  0%|          | 0/391 [00:00<?, ?it/s]"
          ],
          "name": "stderr"
        },
        {
          "output_type": "stream",
          "text": [
            "Test set: Average loss: 0.0035, Accuracy: 8631/10000 (86.31%)\n",
            "\n",
            "EPOCH: 24\n"
          ],
          "name": "stdout"
        },
        {
          "output_type": "stream",
          "text": [
            "L2_loss=455.0054626464844 L1_loss=101613.765625 Loss=1.3166751861572266 Batch_id=390 Accuracy=86.13: 100%|██████████| 391/391 [00:38<00:00, 10.13it/s]\n",
            "  0%|          | 0/391 [00:00<?, ?it/s]"
          ],
          "name": "stderr"
        },
        {
          "output_type": "stream",
          "text": [
            "Test set: Average loss: 0.0032, Accuracy: 8697/10000 (86.97%)\n",
            "\n",
            "EPOCH: 25\n"
          ],
          "name": "stdout"
        },
        {
          "output_type": "stream",
          "text": [
            "L2_loss=454.6818542480469 L1_loss=101339.25 Loss=1.1850340366363525 Batch_id=390 Accuracy=86.77: 100%|██████████| 391/391 [00:38<00:00, 10.09it/s]\n",
            "  0%|          | 0/391 [00:00<?, ?it/s]"
          ],
          "name": "stderr"
        },
        {
          "output_type": "stream",
          "text": [
            "Test set: Average loss: 0.0033, Accuracy: 8649/10000 (86.49%)\n",
            "\n",
            "EPOCH: 26\n"
          ],
          "name": "stdout"
        },
        {
          "output_type": "stream",
          "text": [
            "L2_loss=454.3800048828125 L1_loss=101067.9296875 Loss=1.0564385652542114 Batch_id=390 Accuracy=86.84: 100%|██████████| 391/391 [00:38<00:00, 10.06it/s]\n",
            "  0%|          | 0/391 [00:00<?, ?it/s]"
          ],
          "name": "stderr"
        },
        {
          "output_type": "stream",
          "text": [
            "Test set: Average loss: 0.0032, Accuracy: 8720/10000 (87.20%)\n",
            "\n",
            "EPOCH: 27\n"
          ],
          "name": "stdout"
        },
        {
          "output_type": "stream",
          "text": [
            "L2_loss=454.0772399902344 L1_loss=100803.4375 Loss=1.0984553098678589 Batch_id=390 Accuracy=87.29: 100%|██████████| 391/391 [00:38<00:00, 10.10it/s]\n",
            "  0%|          | 0/391 [00:00<?, ?it/s]"
          ],
          "name": "stderr"
        },
        {
          "output_type": "stream",
          "text": [
            "Test set: Average loss: 0.0034, Accuracy: 8668/10000 (86.68%)\n",
            "\n",
            "EPOCH: 28\n"
          ],
          "name": "stdout"
        },
        {
          "output_type": "stream",
          "text": [
            "L2_loss=453.7423095703125 L1_loss=100541.5234375 Loss=1.1220307350158691 Batch_id=390 Accuracy=87.65: 100%|██████████| 391/391 [00:38<00:00, 10.13it/s]\n",
            "  0%|          | 0/391 [00:00<?, ?it/s]"
          ],
          "name": "stderr"
        },
        {
          "output_type": "stream",
          "text": [
            "Test set: Average loss: 0.0033, Accuracy: 8656/10000 (86.56%)\n",
            "\n",
            "EPOCH: 29\n"
          ],
          "name": "stdout"
        },
        {
          "output_type": "stream",
          "text": [
            "L2_loss=453.41522216796875 L1_loss=100274.1640625 Loss=1.2011263370513916 Batch_id=390 Accuracy=87.95: 100%|██████████| 391/391 [00:38<00:00, 10.14it/s]\n",
            "  0%|          | 0/391 [00:00<?, ?it/s]"
          ],
          "name": "stderr"
        },
        {
          "output_type": "stream",
          "text": [
            "Test set: Average loss: 0.0033, Accuracy: 8710/10000 (87.10%)\n",
            "\n",
            "EPOCH: 30\n"
          ],
          "name": "stdout"
        },
        {
          "output_type": "stream",
          "text": [
            "L2_loss=453.0872497558594 L1_loss=100025.6328125 Loss=1.0381221771240234 Batch_id=390 Accuracy=87.87: 100%|██████████| 391/391 [00:38<00:00, 10.08it/s]\n",
            "  0%|          | 0/391 [00:00<?, ?it/s]"
          ],
          "name": "stderr"
        },
        {
          "output_type": "stream",
          "text": [
            "Test set: Average loss: 0.0034, Accuracy: 8748/10000 (87.48%)\n",
            "\n",
            "Epoch    30: reducing learning rate of group 0 to 4.4367e-04.\n",
            "EPOCH: 31\n"
          ],
          "name": "stdout"
        },
        {
          "output_type": "stream",
          "text": [
            "L2_loss=452.9662170410156 L1_loss=99954.359375 Loss=0.9715754985809326 Batch_id=390 Accuracy=90.94: 100%|██████████| 391/391 [00:38<00:00, 10.09it/s]\n",
            "  0%|          | 0/391 [00:00<?, ?it/s]"
          ],
          "name": "stderr"
        },
        {
          "output_type": "stream",
          "text": [
            "\n",
            "Accuracy of airplane : 95 %\n",
            "Accuracy of automobile : 95 %\n",
            "Accuracy of  bird : 85 %\n",
            "Accuracy of   cat : 66 %\n",
            "Accuracy of  deer : 93 %\n",
            "Accuracy of   dog : 82 %\n",
            "Accuracy of  frog : 87 %\n",
            "Accuracy of horse : 96 %\n",
            "Accuracy of  ship : 94 %\n",
            "Accuracy of truck : 100 %\n",
            "\n",
            "Test set: Average loss: 0.0024, Accuracy: 9060/10000 (90.60%)\n",
            "\n",
            "EPOCH: 32\n"
          ],
          "name": "stdout"
        },
        {
          "output_type": "stream",
          "text": [
            "L2_loss=452.8515319824219 L1_loss=99883.9921875 Loss=1.0820027589797974 Batch_id=390 Accuracy=91.68: 100%|██████████| 391/391 [00:38<00:00, 10.11it/s]\n",
            "  0%|          | 0/391 [00:00<?, ?it/s]"
          ],
          "name": "stderr"
        },
        {
          "output_type": "stream",
          "text": [
            "\n",
            "Accuracy of airplane : 96 %\n",
            "Accuracy of automobile : 93 %\n",
            "Accuracy of  bird : 87 %\n",
            "Accuracy of   cat : 80 %\n",
            "Accuracy of  deer : 83 %\n",
            "Accuracy of   dog : 74 %\n",
            "Accuracy of  frog : 100 %\n",
            "Accuracy of horse : 100 %\n",
            "Accuracy of  ship : 94 %\n",
            "Accuracy of truck : 94 %\n",
            "\n",
            "Test set: Average loss: 0.0023, Accuracy: 9086/10000 (90.86%)\n",
            "\n",
            "EPOCH: 33\n"
          ],
          "name": "stdout"
        },
        {
          "output_type": "stream",
          "text": [
            "L2_loss=452.73858642578125 L1_loss=99814.6171875 Loss=0.9458271265029907 Batch_id=390 Accuracy=92.24: 100%|██████████| 391/391 [00:38<00:00, 10.18it/s]\n",
            "  0%|          | 0/391 [00:00<?, ?it/s]"
          ],
          "name": "stderr"
        },
        {
          "output_type": "stream",
          "text": [
            "\n",
            "Accuracy of airplane : 89 %\n",
            "Accuracy of automobile : 97 %\n",
            "Accuracy of  bird : 78 %\n",
            "Accuracy of   cat : 80 %\n",
            "Accuracy of  deer : 100 %\n",
            "Accuracy of   dog : 82 %\n",
            "Accuracy of  frog : 90 %\n",
            "Accuracy of horse : 100 %\n",
            "Accuracy of  ship : 96 %\n",
            "Accuracy of truck : 92 %\n",
            "\n",
            "Test set: Average loss: 0.0023, Accuracy: 9082/10000 (90.82%)\n",
            "\n",
            "EPOCH: 34\n"
          ],
          "name": "stdout"
        },
        {
          "output_type": "stream",
          "text": [
            "L2_loss=452.6260070800781 L1_loss=99745.8515625 Loss=0.9001368284225464 Batch_id=390 Accuracy=92.43: 100%|██████████| 391/391 [00:42<00:00,  9.30it/s]\n",
            "  0%|          | 0/391 [00:00<?, ?it/s]"
          ],
          "name": "stderr"
        },
        {
          "output_type": "stream",
          "text": [
            "\n",
            "Accuracy of airplane : 86 %\n",
            "Accuracy of automobile : 97 %\n",
            "Accuracy of  bird : 88 %\n",
            "Accuracy of   cat : 75 %\n",
            "Accuracy of  deer : 91 %\n",
            "Accuracy of   dog : 83 %\n",
            "Accuracy of  frog : 92 %\n",
            "Accuracy of horse : 90 %\n",
            "Accuracy of  ship : 93 %\n",
            "Accuracy of truck : 100 %\n",
            "\n",
            "Test set: Average loss: 0.0023, Accuracy: 9103/10000 (91.03%)\n",
            "\n",
            "EPOCH: 35\n"
          ],
          "name": "stdout"
        },
        {
          "output_type": "stream",
          "text": [
            "L2_loss=452.5137023925781 L1_loss=99677.625 Loss=0.9028149843215942 Batch_id=390 Accuracy=92.51: 100%|██████████| 391/391 [00:39<00:00,  9.96it/s]\n",
            "  0%|          | 0/391 [00:00<?, ?it/s]"
          ],
          "name": "stderr"
        },
        {
          "output_type": "stream",
          "text": [
            "\n",
            "Accuracy of airplane : 91 %\n",
            "Accuracy of automobile : 100 %\n",
            "Accuracy of  bird : 76 %\n",
            "Accuracy of   cat : 89 %\n",
            "Accuracy of  deer : 92 %\n",
            "Accuracy of   dog : 91 %\n",
            "Accuracy of  frog : 94 %\n",
            "Accuracy of horse : 83 %\n",
            "Accuracy of  ship : 95 %\n",
            "Accuracy of truck : 89 %\n",
            "\n",
            "Test set: Average loss: 0.0023, Accuracy: 9089/10000 (90.89%)\n",
            "\n",
            "EPOCH: 36\n"
          ],
          "name": "stdout"
        },
        {
          "output_type": "stream",
          "text": [
            "L2_loss=452.4007873535156 L1_loss=99609.3515625 Loss=1.0032415390014648 Batch_id=390 Accuracy=92.56: 100%|██████████| 391/391 [00:39<00:00,  9.91it/s]\n",
            "  0%|          | 0/391 [00:00<?, ?it/s]"
          ],
          "name": "stderr"
        },
        {
          "output_type": "stream",
          "text": [
            "\n",
            "Accuracy of airplane : 96 %\n",
            "Accuracy of automobile : 94 %\n",
            "Accuracy of  bird : 88 %\n",
            "Accuracy of   cat : 96 %\n",
            "Accuracy of  deer : 96 %\n",
            "Accuracy of   dog : 86 %\n",
            "Accuracy of  frog : 93 %\n",
            "Accuracy of horse : 94 %\n",
            "Accuracy of  ship : 100 %\n",
            "Accuracy of truck : 94 %\n",
            "\n",
            "Test set: Average loss: 0.0023, Accuracy: 9094/10000 (90.94%)\n",
            "\n",
            "EPOCH: 37\n"
          ],
          "name": "stdout"
        },
        {
          "output_type": "stream",
          "text": [
            "L2_loss=452.29193115234375 L1_loss=99541.40625 Loss=0.9780439138412476 Batch_id=390 Accuracy=93.03: 100%|██████████| 391/391 [00:39<00:00,  9.95it/s]\n",
            "  0%|          | 0/391 [00:00<?, ?it/s]"
          ],
          "name": "stderr"
        },
        {
          "output_type": "stream",
          "text": [
            "\n",
            "Accuracy of airplane : 92 %\n",
            "Accuracy of automobile : 100 %\n",
            "Accuracy of  bird : 92 %\n",
            "Accuracy of   cat : 68 %\n",
            "Accuracy of  deer : 90 %\n",
            "Accuracy of   dog : 82 %\n",
            "Accuracy of  frog : 100 %\n",
            "Accuracy of horse : 96 %\n",
            "Accuracy of  ship : 94 %\n",
            "Accuracy of truck : 93 %\n",
            "\n",
            "Test set: Average loss: 0.0023, Accuracy: 9104/10000 (91.04%)\n",
            "\n",
            "EPOCH: 38\n"
          ],
          "name": "stdout"
        },
        {
          "output_type": "stream",
          "text": [
            "L2_loss=452.183837890625 L1_loss=99474.03125 Loss=0.8841105699539185 Batch_id=390 Accuracy=92.90: 100%|██████████| 391/391 [00:40<00:00,  9.57it/s]\n",
            "  0%|          | 0/391 [00:00<?, ?it/s]"
          ],
          "name": "stderr"
        },
        {
          "output_type": "stream",
          "text": [
            "\n",
            "Accuracy of airplane : 100 %\n",
            "Accuracy of automobile : 92 %\n",
            "Accuracy of  bird : 96 %\n",
            "Accuracy of   cat : 82 %\n",
            "Accuracy of  deer : 80 %\n",
            "Accuracy of   dog : 90 %\n",
            "Accuracy of  frog : 95 %\n",
            "Accuracy of horse : 95 %\n",
            "Accuracy of  ship : 96 %\n",
            "Accuracy of truck : 96 %\n",
            "\n",
            "Test set: Average loss: 0.0023, Accuracy: 9108/10000 (91.08%)\n",
            "\n",
            "EPOCH: 39\n"
          ],
          "name": "stdout"
        },
        {
          "output_type": "stream",
          "text": [
            "L2_loss=452.07623291015625 L1_loss=99407.109375 Loss=0.8935767412185669 Batch_id=390 Accuracy=93.08: 100%|██████████| 391/391 [00:40<00:00,  9.55it/s]\n",
            "  0%|          | 0/391 [00:00<?, ?it/s]"
          ],
          "name": "stderr"
        },
        {
          "output_type": "stream",
          "text": [
            "\n",
            "Accuracy of airplane : 93 %\n",
            "Accuracy of automobile : 93 %\n",
            "Accuracy of  bird : 87 %\n",
            "Accuracy of   cat : 63 %\n",
            "Accuracy of  deer : 87 %\n",
            "Accuracy of   dog : 72 %\n",
            "Accuracy of  frog : 95 %\n",
            "Accuracy of horse : 88 %\n",
            "Accuracy of  ship : 95 %\n",
            "Accuracy of truck : 92 %\n",
            "\n",
            "Test set: Average loss: 0.0023, Accuracy: 9098/10000 (90.98%)\n",
            "\n",
            "EPOCH: 40\n"
          ],
          "name": "stdout"
        },
        {
          "output_type": "stream",
          "text": [
            "L2_loss=451.9729309082031 L1_loss=99340.5703125 Loss=0.9453893899917603 Batch_id=390 Accuracy=93.23: 100%|██████████| 391/391 [00:40<00:00,  9.67it/s]\n",
            "  0%|          | 0/391 [00:00<?, ?it/s]"
          ],
          "name": "stderr"
        },
        {
          "output_type": "stream",
          "text": [
            "\n",
            "Accuracy of airplane : 94 %\n",
            "Accuracy of automobile : 100 %\n",
            "Accuracy of  bird : 85 %\n",
            "Accuracy of   cat : 78 %\n",
            "Accuracy of  deer : 85 %\n",
            "Accuracy of   dog : 85 %\n",
            "Accuracy of  frog : 92 %\n",
            "Accuracy of horse : 94 %\n",
            "Accuracy of  ship : 96 %\n",
            "Accuracy of truck : 96 %\n",
            "\n",
            "Test set: Average loss: 0.0023, Accuracy: 9115/10000 (91.15%)\n",
            "\n",
            "EPOCH: 41\n"
          ],
          "name": "stdout"
        },
        {
          "output_type": "stream",
          "text": [
            "L2_loss=451.86895751953125 L1_loss=99274.03125 Loss=0.9159564971923828 Batch_id=390 Accuracy=93.46: 100%|██████████| 391/391 [00:39<00:00,  9.81it/s]\n",
            "  0%|          | 0/391 [00:00<?, ?it/s]"
          ],
          "name": "stderr"
        },
        {
          "output_type": "stream",
          "text": [
            "\n",
            "Accuracy of airplane : 100 %\n",
            "Accuracy of automobile : 92 %\n",
            "Accuracy of  bird : 88 %\n",
            "Accuracy of   cat : 77 %\n",
            "Accuracy of  deer : 76 %\n",
            "Accuracy of   dog : 93 %\n",
            "Accuracy of  frog : 100 %\n",
            "Accuracy of horse : 90 %\n",
            "Accuracy of  ship : 90 %\n",
            "Accuracy of truck : 94 %\n",
            "\n",
            "Test set: Average loss: 0.0023, Accuracy: 9113/10000 (91.13%)\n",
            "\n",
            "EPOCH: 42\n"
          ],
          "name": "stdout"
        },
        {
          "output_type": "stream",
          "text": [
            "L2_loss=451.7654724121094 L1_loss=99207.4453125 Loss=1.0317168235778809 Batch_id=390 Accuracy=93.37: 100%|██████████| 391/391 [00:40<00:00,  9.72it/s]\n",
            "  0%|          | 0/391 [00:00<?, ?it/s]"
          ],
          "name": "stderr"
        },
        {
          "output_type": "stream",
          "text": [
            "\n",
            "Accuracy of airplane : 85 %\n",
            "Accuracy of automobile : 93 %\n",
            "Accuracy of  bird : 78 %\n",
            "Accuracy of   cat : 84 %\n",
            "Accuracy of  deer : 96 %\n",
            "Accuracy of   dog : 88 %\n",
            "Accuracy of  frog : 91 %\n",
            "Accuracy of horse : 91 %\n",
            "Accuracy of  ship : 90 %\n",
            "Accuracy of truck : 96 %\n",
            "\n",
            "Test set: Average loss: 0.0023, Accuracy: 9117/10000 (91.17%)\n",
            "\n",
            "Epoch    42: reducing learning rate of group 0 to 4.4367e-05.\n",
            "EPOCH: 43\n"
          ],
          "name": "stdout"
        },
        {
          "output_type": "stream",
          "text": [
            "L2_loss=451.7512512207031 L1_loss=99200.0625 Loss=0.9933602809906006 Batch_id=390 Accuracy=93.61: 100%|██████████| 391/391 [00:40<00:00,  9.73it/s]\n",
            "  0%|          | 0/391 [00:00<?, ?it/s]"
          ],
          "name": "stderr"
        },
        {
          "output_type": "stream",
          "text": [
            "\n",
            "Accuracy of airplane : 91 %\n",
            "Accuracy of automobile : 92 %\n",
            "Accuracy of  bird : 89 %\n",
            "Accuracy of   cat : 71 %\n",
            "Accuracy of  deer : 94 %\n",
            "Accuracy of   dog : 67 %\n",
            "Accuracy of  frog : 83 %\n",
            "Accuracy of horse : 95 %\n",
            "Accuracy of  ship : 96 %\n",
            "Accuracy of truck : 91 %\n",
            "\n",
            "Test set: Average loss: 0.0023, Accuracy: 9122/10000 (91.22%)\n",
            "\n",
            "EPOCH: 44\n"
          ],
          "name": "stdout"
        },
        {
          "output_type": "stream",
          "text": [
            "L2_loss=451.7383117675781 L1_loss=99192.8828125 Loss=0.8727260231971741 Batch_id=390 Accuracy=93.72: 100%|██████████| 391/391 [00:39<00:00,  9.78it/s]\n",
            "  0%|          | 0/391 [00:00<?, ?it/s]"
          ],
          "name": "stderr"
        },
        {
          "output_type": "stream",
          "text": [
            "\n",
            "Accuracy of airplane : 89 %\n",
            "Accuracy of automobile : 100 %\n",
            "Accuracy of  bird : 90 %\n",
            "Accuracy of   cat : 70 %\n",
            "Accuracy of  deer : 86 %\n",
            "Accuracy of   dog : 89 %\n",
            "Accuracy of  frog : 91 %\n",
            "Accuracy of horse : 87 %\n",
            "Accuracy of  ship : 92 %\n",
            "Accuracy of truck : 96 %\n",
            "\n",
            "Test set: Average loss: 0.0022, Accuracy: 9134/10000 (91.34%)\n",
            "\n",
            "EPOCH: 45\n"
          ],
          "name": "stdout"
        },
        {
          "output_type": "stream",
          "text": [
            "L2_loss=451.7254943847656 L1_loss=99185.7109375 Loss=0.960304856300354 Batch_id=390 Accuracy=93.66: 100%|██████████| 391/391 [00:39<00:00,  9.86it/s]\n",
            "  0%|          | 0/391 [00:00<?, ?it/s]"
          ],
          "name": "stderr"
        },
        {
          "output_type": "stream",
          "text": [
            "\n",
            "Accuracy of airplane : 95 %\n",
            "Accuracy of automobile : 97 %\n",
            "Accuracy of  bird : 87 %\n",
            "Accuracy of   cat : 90 %\n",
            "Accuracy of  deer : 95 %\n",
            "Accuracy of   dog : 91 %\n",
            "Accuracy of  frog : 97 %\n",
            "Accuracy of horse : 100 %\n",
            "Accuracy of  ship : 91 %\n",
            "Accuracy of truck : 100 %\n",
            "\n",
            "Test set: Average loss: 0.0022, Accuracy: 9141/10000 (91.41%)\n",
            "\n",
            "EPOCH: 46\n"
          ],
          "name": "stdout"
        },
        {
          "output_type": "stream",
          "text": [
            "L2_loss=451.7132873535156 L1_loss=99178.515625 Loss=0.9487357139587402 Batch_id=390 Accuracy=93.62: 100%|██████████| 391/391 [00:39<00:00,  9.79it/s]\n",
            "  0%|          | 0/391 [00:00<?, ?it/s]"
          ],
          "name": "stderr"
        },
        {
          "output_type": "stream",
          "text": [
            "\n",
            "Accuracy of airplane : 79 %\n",
            "Accuracy of automobile : 90 %\n",
            "Accuracy of  bird : 86 %\n",
            "Accuracy of   cat : 90 %\n",
            "Accuracy of  deer : 84 %\n",
            "Accuracy of   dog : 74 %\n",
            "Accuracy of  frog : 95 %\n",
            "Accuracy of horse : 92 %\n",
            "Accuracy of  ship : 91 %\n",
            "Accuracy of truck : 91 %\n",
            "\n",
            "Test set: Average loss: 0.0022, Accuracy: 9143/10000 (91.43%)\n",
            "\n",
            "EPOCH: 47\n"
          ],
          "name": "stdout"
        },
        {
          "output_type": "stream",
          "text": [
            "L2_loss=451.70159912109375 L1_loss=99171.3515625 Loss=0.8952677249908447 Batch_id=390 Accuracy=93.75: 100%|██████████| 391/391 [00:39<00:00,  9.84it/s]\n",
            "  0%|          | 0/391 [00:00<?, ?it/s]"
          ],
          "name": "stderr"
        },
        {
          "output_type": "stream",
          "text": [
            "\n",
            "Accuracy of airplane : 95 %\n",
            "Accuracy of automobile : 96 %\n",
            "Accuracy of  bird : 80 %\n",
            "Accuracy of   cat : 90 %\n",
            "Accuracy of  deer : 87 %\n",
            "Accuracy of   dog : 85 %\n",
            "Accuracy of  frog : 96 %\n",
            "Accuracy of horse : 95 %\n",
            "Accuracy of  ship : 93 %\n",
            "Accuracy of truck : 97 %\n",
            "\n",
            "Test set: Average loss: 0.0022, Accuracy: 9134/10000 (91.34%)\n",
            "\n",
            "EPOCH: 48\n"
          ],
          "name": "stdout"
        },
        {
          "output_type": "stream",
          "text": [
            "L2_loss=451.6905212402344 L1_loss=99164.1875 Loss=0.9058768153190613 Batch_id=390 Accuracy=93.85: 100%|██████████| 391/391 [00:39<00:00,  9.91it/s]\n",
            "  0%|          | 0/391 [00:00<?, ?it/s]"
          ],
          "name": "stderr"
        },
        {
          "output_type": "stream",
          "text": [
            "\n",
            "Accuracy of airplane : 95 %\n",
            "Accuracy of automobile : 100 %\n",
            "Accuracy of  bird : 81 %\n",
            "Accuracy of   cat : 85 %\n",
            "Accuracy of  deer : 86 %\n",
            "Accuracy of   dog : 87 %\n",
            "Accuracy of  frog : 94 %\n",
            "Accuracy of horse : 96 %\n",
            "Accuracy of  ship : 89 %\n",
            "Accuracy of truck : 97 %\n",
            "\n",
            "Test set: Average loss: 0.0022, Accuracy: 9136/10000 (91.36%)\n",
            "\n",
            "EPOCH: 49\n"
          ],
          "name": "stdout"
        },
        {
          "output_type": "stream",
          "text": [
            "L2_loss=451.6789855957031 L1_loss=99157.0390625 Loss=0.8587329983711243 Batch_id=390 Accuracy=93.76: 100%|██████████| 391/391 [00:39<00:00,  9.88it/s]\n",
            "  0%|          | 0/391 [00:00<?, ?it/s]"
          ],
          "name": "stderr"
        },
        {
          "output_type": "stream",
          "text": [
            "\n",
            "Accuracy of airplane : 90 %\n",
            "Accuracy of automobile : 93 %\n",
            "Accuracy of  bird : 100 %\n",
            "Accuracy of   cat : 89 %\n",
            "Accuracy of  deer : 91 %\n",
            "Accuracy of   dog : 80 %\n",
            "Accuracy of  frog : 96 %\n",
            "Accuracy of horse : 88 %\n",
            "Accuracy of  ship : 94 %\n",
            "Accuracy of truck : 96 %\n",
            "\n",
            "Test set: Average loss: 0.0022, Accuracy: 9127/10000 (91.27%)\n",
            "\n",
            "EPOCH: 50\n"
          ],
          "name": "stdout"
        },
        {
          "output_type": "stream",
          "text": [
            "L2_loss=451.6676025390625 L1_loss=99149.9140625 Loss=0.8933392763137817 Batch_id=390 Accuracy=93.76: 100%|██████████| 391/391 [00:39<00:00,  9.91it/s]\n"
          ],
          "name": "stderr"
        },
        {
          "output_type": "stream",
          "text": [
            "\n",
            "Accuracy of airplane : 97 %\n",
            "Accuracy of automobile : 100 %\n",
            "Accuracy of  bird : 96 %\n",
            "Accuracy of   cat : 76 %\n",
            "Accuracy of  deer : 90 %\n",
            "Accuracy of   dog : 94 %\n",
            "Accuracy of  frog : 90 %\n",
            "Accuracy of horse : 95 %\n",
            "Accuracy of  ship : 90 %\n",
            "Accuracy of truck : 84 %\n",
            "\n",
            "Test set: Average loss: 0.0023, Accuracy: 9135/10000 (91.35%)\n",
            "\n"
          ],
          "name": "stdout"
        }
      ]
    },
    {
      "cell_type": "code",
      "metadata": {
        "id": "H0zuvG25FQQG",
        "colab_type": "code",
        "colab": {
          "base_uri": "https://localhost:8080/",
          "height": 295
        },
        "outputId": "8e21afa9-58b9-4d6d-ef8e-4b2a9304d61a"
      },
      "source": [
        "import matplotlib.pyplot as plt\n",
        "import numpy as np\n",
        "def plot_graph(data, metric):\n",
        "    fig, ax = plt.subplots()\n",
        "\n",
        "    for sub_metric in data.keys():\n",
        "      ax.plot(data[sub_metric], label=sub_metric)\n",
        "    \n",
        "    plt.title(f'Change in %s' % (metric))\n",
        "    plt.xlabel('Epoch')\n",
        "    plt.ylabel(metric)\n",
        "    \n",
        "    ax.legend()\n",
        "    plt.show()\n",
        "\n",
        "    fig.savefig(f'%s_change.png' % (metric.lower()))\n",
        "\n",
        "plt_data = {\n",
        "    \"val\": test_losses\n",
        "}\n",
        "plot_graph(plt_data, \"Loss\")"
      ],
      "execution_count": 34,
      "outputs": [
        {
          "output_type": "display_data",
          "data": {
            "image/png": "[encoded data removed]",
            "text/plain": [
              "<Figure size 432x288 with 1 Axes>"
            ]
          },
          "metadata": {
            "tags": []
          }
        }
      ]
    },
    {
      "cell_type": "code",
      "metadata": {
        "id": "mYgiRUIfFhPQ",
        "colab_type": "code",
        "colab": {
          "base_uri": "https://localhost:8080/",
          "height": 295
        },
        "outputId": "57686973-a8fd-48a0-c010-06da4a751d0a"
      },
      "source": [
        "plt_data = {\n",
        "    \"train\": train_accs,\n",
        "    \"val\": test_accs\n",
        "}\n",
        "plot_graph(plt_data, \"Accuracy\")"
      ],
      "execution_count": 35,
      "outputs": [
        {
          "output_type": "display_data",
          "data": {
            "image/png": "[encoded data removed]",
            "text/plain": [
              "<Figure size 432x288 with 1 Axes>"
            ]
          },
          "metadata": {
            "tags": []
          }
        }
      ]
    },
    {
      "cell_type": "code",
      "metadata": {
        "id": "pPM4UFmqFpWP",
        "colab_type": "code",
        "colab": {}
      },
      "source": [
        "GradCam = SourceFileLoader('GradCam',join('/content/drive/My Drive/Colab Notebooks/S10','GradCam.py')).load_module()\n",
        "from GradCam import grad_cam\n",
        "visualize_gradcam = SourceFileLoader('visualize_gradcam',join('/content/drive/My Drive/Colab Notebooks/S10','visualize_gradcam.py')).load_module()\n",
        "from visualize_gradcam import VisualizeCam"
      ],
      "execution_count": 0,
      "outputs": []
    },
    {
      "cell_type": "code",
      "metadata": {
        "id": "7hKAn9C7G8yl",
        "colab_type": "code",
        "colab": {}
      },
      "source": [
        "target_layers = [\"layer1\",\"layer2\",\"layer3\",\"layer4\"]\n",
        "viz_cam = VisualizeCam(model,data.classes, target_layers)"
      ],
      "execution_count": 0,
      "outputs": []
    },
    {
      "cell_type": "code",
      "metadata": {
        "id": "urBDMIbdH0id",
        "colab_type": "code",
        "colab": {
          "base_uri": "https://localhost:8080/",
          "height": 364
        },
        "outputId": "917ea3b3-ab80-4873-c876-c2d253e986da"
      },
      "source": [
        "num_img = 5\n",
        "incorrect_pred_imgs = []\n",
        "truth_inds = []\n",
        "for i in range(num_img):\n",
        "  incorrect_pred_imgs.append(torch.as_tensor(misclassified_imgs[i][\"img\"]))\n",
        "  truth_inds.append(misclassified_imgs[i][\"target\"])\n",
        "viz_cam(torch.stack(incorrect_pred_imgs), truth_inds, target_layers, metric=\"incorrect\")"
      ],
      "execution_count": 40,
      "outputs": [
        {
          "output_type": "error",
          "ename": "AttributeError",
          "evalue": "ignored",
          "traceback": [
            "\u001b[0;31m---------------------------------------------------------------------------\u001b[0m",
            "\u001b[0;31mAttributeError\u001b[0m                            Traceback (most recent call last)",
            "\u001b[0;32m<ipython-input-40-148fe7da8593>\u001b[0m in \u001b[0;36m<module>\u001b[0;34m()\u001b[0m\n\u001b[1;32m      5\u001b[0m   \u001b[0mincorrect_pred_imgs\u001b[0m\u001b[0;34m.\u001b[0m\u001b[0mappend\u001b[0m\u001b[0;34m(\u001b[0m\u001b[0mtorch\u001b[0m\u001b[0;34m.\u001b[0m\u001b[0mas_tensor\u001b[0m\u001b[0;34m(\u001b[0m\u001b[0mmisclassified_imgs\u001b[0m\u001b[0;34m[\u001b[0m\u001b[0mi\u001b[0m\u001b[0;34m]\u001b[0m\u001b[0;34m[\u001b[0m\u001b[0;34m\"img\"\u001b[0m\u001b[0;34m]\u001b[0m\u001b[0;34m)\u001b[0m\u001b[0;34m)\u001b[0m\u001b[0;34m\u001b[0m\u001b[0;34m\u001b[0m\u001b[0m\n\u001b[1;32m      6\u001b[0m   \u001b[0mtruth_inds\u001b[0m\u001b[0;34m.\u001b[0m\u001b[0mappend\u001b[0m\u001b[0;34m(\u001b[0m\u001b[0mmisclassified_imgs\u001b[0m\u001b[0;34m[\u001b[0m\u001b[0mi\u001b[0m\u001b[0;34m]\u001b[0m\u001b[0;34m[\u001b[0m\u001b[0;34m\"target\"\u001b[0m\u001b[0;34m]\u001b[0m\u001b[0;34m)\u001b[0m\u001b[0;34m\u001b[0m\u001b[0;34m\u001b[0m\u001b[0m\n\u001b[0;32m----> 7\u001b[0;31m \u001b[0mviz_cam\u001b[0m\u001b[0;34m(\u001b[0m\u001b[0mtorch\u001b[0m\u001b[0;34m.\u001b[0m\u001b[0mstack\u001b[0m\u001b[0;34m(\u001b[0m\u001b[0mincorrect_pred_imgs\u001b[0m\u001b[0;34m)\u001b[0m\u001b[0;34m,\u001b[0m \u001b[0mtruth_inds\u001b[0m\u001b[0;34m,\u001b[0m \u001b[0mtarget_layers\u001b[0m\u001b[0;34m,\u001b[0m \u001b[0mmetric\u001b[0m\u001b[0;34m=\u001b[0m\u001b[0;34m\"incorrect\"\u001b[0m\u001b[0;34m)\u001b[0m\u001b[0;34m\u001b[0m\u001b[0;34m\u001b[0m\u001b[0m\n\u001b[0m",
            "\u001b[0;32m/content/drive/My Drive/Colab Notebooks/S10/visualize_gradcam.py\u001b[0m in \u001b[0;36m__call__\u001b[0;34m(self, images, truth_inds, target_layers, target_inds, metric, per_image)\u001b[0m\n\u001b[1;32m     69\u001b[0m \tdef __call__(self, images, truth_inds, target_layers, target_inds=None,\n\u001b[1;32m     70\u001b[0m \t\t\t\tmetric=\"\", per_image=True):\n\u001b[0;32m---> 71\u001b[0;31m                 \u001b[0mmasks_map\u001b[0m\u001b[0;34m,\u001b[0m \u001b[0mpred\u001b[0m \u001b[0;34m=\u001b[0m \u001b[0mself\u001b[0m\u001b[0;34m.\u001b[0m\u001b[0mgcam\u001b[0m\u001b[0;34m(\u001b[0m\u001b[0mimages\u001b[0m\u001b[0;34m,\u001b[0m \u001b[0mtarget_layers\u001b[0m\u001b[0;34m,\u001b[0m \u001b[0mtarget_inds\u001b[0m\u001b[0;34m)\u001b[0m\u001b[0;34m\u001b[0m\u001b[0;34m\u001b[0m\u001b[0m\n\u001b[0m\u001b[1;32m     72\u001b[0m                 \u001b[0;32mif\u001b[0m \u001b[0mper_image\u001b[0m\u001b[0;34m:\u001b[0m\u001b[0;34m\u001b[0m\u001b[0;34m\u001b[0m\u001b[0m\n\u001b[1;32m     73\u001b[0m                         \u001b[0;32mfor\u001b[0m \u001b[0mi\u001b[0m \u001b[0;32min\u001b[0m \u001b[0mrange\u001b[0m\u001b[0;34m(\u001b[0m\u001b[0mlen\u001b[0m\u001b[0;34m(\u001b[0m\u001b[0mimages\u001b[0m\u001b[0;34m)\u001b[0m\u001b[0;34m)\u001b[0m\u001b[0;34m:\u001b[0m\u001b[0;34m\u001b[0m\u001b[0;34m\u001b[0m\u001b[0m\n",
            "\u001b[0;32m/content/drive/My Drive/Colab Notebooks/S10/GradCam.py\u001b[0m in \u001b[0;36m__call__\u001b[0;34m(self, data, target_layers, target_class)\u001b[0m\n\u001b[1;32m     62\u001b[0m \u001b[0;34m\u001b[0m\u001b[0m\n\u001b[1;32m     63\u001b[0m     \u001b[0;32mdef\u001b[0m \u001b[0m__call__\u001b[0m\u001b[0;34m(\u001b[0m\u001b[0mself\u001b[0m\u001b[0;34m,\u001b[0m \u001b[0mdata\u001b[0m\u001b[0;34m,\u001b[0m \u001b[0mtarget_layers\u001b[0m\u001b[0;34m,\u001b[0m \u001b[0mtarget_class\u001b[0m\u001b[0;34m=\u001b[0m\u001b[0;32mNone\u001b[0m\u001b[0;34m)\u001b[0m\u001b[0;34m:\u001b[0m\u001b[0;34m\u001b[0m\u001b[0;34m\u001b[0m\u001b[0m\n\u001b[0;32m---> 64\u001b[0;31m         \u001b[0mself\u001b[0m\u001b[0;34m.\u001b[0m\u001b[0mforward\u001b[0m\u001b[0;34m(\u001b[0m\u001b[0mdata\u001b[0m\u001b[0;34m)\u001b[0m\u001b[0;34m\u001b[0m\u001b[0;34m\u001b[0m\u001b[0m\n\u001b[0m\u001b[1;32m     65\u001b[0m         \u001b[0mself\u001b[0m\u001b[0;34m.\u001b[0m\u001b[0mbackward\u001b[0m\u001b[0;34m(\u001b[0m\u001b[0mtarget_class\u001b[0m\u001b[0;34m)\u001b[0m\u001b[0;34m\u001b[0m\u001b[0;34m\u001b[0m\u001b[0m\n\u001b[1;32m     66\u001b[0m         \u001b[0moutput\u001b[0m \u001b[0;34m=\u001b[0m \u001b[0mself\u001b[0m\u001b[0;34m.\u001b[0m\u001b[0moutput\u001b[0m\u001b[0;34m\u001b[0m\u001b[0;34m\u001b[0m\u001b[0m\n",
            "\u001b[0;32m/content/drive/My Drive/Colab Notebooks/S10/GradCam.py\u001b[0m in \u001b[0;36mforward\u001b[0;34m(self, data)\u001b[0m\n\u001b[1;32m     53\u001b[0m         \u001b[0mself\u001b[0m\u001b[0;34m.\u001b[0m\u001b[0mbatch_size\u001b[0m\u001b[0;34m,\u001b[0m \u001b[0mself\u001b[0m\u001b[0;34m.\u001b[0m\u001b[0mimg_ch\u001b[0m\u001b[0;34m,\u001b[0m \u001b[0mself\u001b[0m\u001b[0;34m.\u001b[0m\u001b[0mimg_h\u001b[0m\u001b[0;34m,\u001b[0m \u001b[0mself\u001b[0m\u001b[0;34m.\u001b[0m\u001b[0mimg_w\u001b[0m \u001b[0;34m=\u001b[0m \u001b[0mdata\u001b[0m\u001b[0;34m.\u001b[0m\u001b[0mshape\u001b[0m\u001b[0;34m\u001b[0m\u001b[0;34m\u001b[0m\u001b[0m\n\u001b[1;32m     54\u001b[0m         \u001b[0mdata\u001b[0m \u001b[0;34m=\u001b[0m \u001b[0mdata\u001b[0m\u001b[0;34m.\u001b[0m\u001b[0mto\u001b[0m\u001b[0;34m(\u001b[0m\u001b[0mself\u001b[0m\u001b[0;34m.\u001b[0m\u001b[0mdevice\u001b[0m\u001b[0;34m)\u001b[0m\u001b[0;34m\u001b[0m\u001b[0;34m\u001b[0m\u001b[0m\n\u001b[0;32m---> 55\u001b[0;31m         \u001b[0mself\u001b[0m\u001b[0;34m.\u001b[0m\u001b[0moutput\u001b[0m \u001b[0;34m=\u001b[0m \u001b[0mself\u001b[0m\u001b[0;34m.\u001b[0m\u001b[0mmodel\u001b[0m\u001b[0;34m(\u001b[0m\u001b[0mdata\u001b[0m\u001b[0;34m)\u001b[0m\u001b[0;34m\u001b[0m\u001b[0;34m\u001b[0m\u001b[0m\n\u001b[0m\u001b[1;32m     56\u001b[0m         \u001b[0mself\u001b[0m\u001b[0;34m.\u001b[0m\u001b[0mpred\u001b[0m \u001b[0;34m=\u001b[0m \u001b[0mself\u001b[0m\u001b[0;34m.\u001b[0m\u001b[0moutput\u001b[0m\u001b[0;34m.\u001b[0m\u001b[0margmax\u001b[0m\u001b[0;34m(\u001b[0m\u001b[0mdim\u001b[0m\u001b[0;34m=\u001b[0m\u001b[0;36m1\u001b[0m\u001b[0;34m,\u001b[0m \u001b[0mkeepdim\u001b[0m\u001b[0;34m=\u001b[0m\u001b[0;32mTrue\u001b[0m\u001b[0;34m)\u001b[0m\u001b[0;34m\u001b[0m\u001b[0;34m\u001b[0m\u001b[0m\n\u001b[1;32m     57\u001b[0m \u001b[0;34m\u001b[0m\u001b[0m\n",
            "\u001b[0;32m/usr/local/lib/python3.6/dist-packages/torch/nn/modules/module.py\u001b[0m in \u001b[0;36m__call__\u001b[0;34m(self, *input, **kwargs)\u001b[0m\n\u001b[1;32m    530\u001b[0m             \u001b[0mresult\u001b[0m \u001b[0;34m=\u001b[0m \u001b[0mself\u001b[0m\u001b[0;34m.\u001b[0m\u001b[0m_slow_forward\u001b[0m\u001b[0;34m(\u001b[0m\u001b[0;34m*\u001b[0m\u001b[0minput\u001b[0m\u001b[0;34m,\u001b[0m \u001b[0;34m**\u001b[0m\u001b[0mkwargs\u001b[0m\u001b[0;34m)\u001b[0m\u001b[0;34m\u001b[0m\u001b[0;34m\u001b[0m\u001b[0m\n\u001b[1;32m    531\u001b[0m         \u001b[0;32melse\u001b[0m\u001b[0;34m:\u001b[0m\u001b[0;34m\u001b[0m\u001b[0;34m\u001b[0m\u001b[0m\n\u001b[0;32m--> 532\u001b[0;31m             \u001b[0mresult\u001b[0m \u001b[0;34m=\u001b[0m \u001b[0mself\u001b[0m\u001b[0;34m.\u001b[0m\u001b[0mforward\u001b[0m\u001b[0;34m(\u001b[0m\u001b[0;34m*\u001b[0m\u001b[0minput\u001b[0m\u001b[0;34m,\u001b[0m \u001b[0;34m**\u001b[0m\u001b[0mkwargs\u001b[0m\u001b[0;34m)\u001b[0m\u001b[0;34m\u001b[0m\u001b[0;34m\u001b[0m\u001b[0m\n\u001b[0m\u001b[1;32m    533\u001b[0m         \u001b[0;32mfor\u001b[0m \u001b[0mhook\u001b[0m \u001b[0;32min\u001b[0m \u001b[0mself\u001b[0m\u001b[0;34m.\u001b[0m\u001b[0m_forward_hooks\u001b[0m\u001b[0;34m.\u001b[0m\u001b[0mvalues\u001b[0m\u001b[0;34m(\u001b[0m\u001b[0;34m)\u001b[0m\u001b[0;34m:\u001b[0m\u001b[0;34m\u001b[0m\u001b[0;34m\u001b[0m\u001b[0m\n\u001b[1;32m    534\u001b[0m             \u001b[0mhook_result\u001b[0m \u001b[0;34m=\u001b[0m \u001b[0mhook\u001b[0m\u001b[0;34m(\u001b[0m\u001b[0mself\u001b[0m\u001b[0;34m,\u001b[0m \u001b[0minput\u001b[0m\u001b[0;34m,\u001b[0m \u001b[0mresult\u001b[0m\u001b[0;34m)\u001b[0m\u001b[0;34m\u001b[0m\u001b[0;34m\u001b[0m\u001b[0m\n",
            "\u001b[0;32m/content/drive/My Drive/Colab Notebooks/S10/resnet.py\u001b[0m in \u001b[0;36mforward\u001b[0;34m(self, x)\u001b[0m\n\u001b[1;32m     98\u001b[0m         \u001b[0mout\u001b[0m \u001b[0;34m=\u001b[0m \u001b[0mF\u001b[0m\u001b[0;34m.\u001b[0m\u001b[0mrelu\u001b[0m\u001b[0;34m(\u001b[0m\u001b[0mself\u001b[0m\u001b[0;34m.\u001b[0m\u001b[0mbn1\u001b[0m\u001b[0;34m(\u001b[0m\u001b[0mself\u001b[0m\u001b[0;34m.\u001b[0m\u001b[0mconv1\u001b[0m\u001b[0;34m(\u001b[0m\u001b[0mx\u001b[0m\u001b[0;34m)\u001b[0m\u001b[0;34m)\u001b[0m\u001b[0;34m)\u001b[0m\u001b[0;34m\u001b[0m\u001b[0;34m\u001b[0m\u001b[0m\n\u001b[1;32m     99\u001b[0m         \u001b[0mout\u001b[0m \u001b[0;34m=\u001b[0m \u001b[0mF\u001b[0m\u001b[0;34m.\u001b[0m\u001b[0mdropout\u001b[0m\u001b[0;34m(\u001b[0m\u001b[0mout\u001b[0m\u001b[0;34m,\u001b[0m \u001b[0mp\u001b[0m\u001b[0;34m=\u001b[0m\u001b[0mself\u001b[0m\u001b[0;34m.\u001b[0m\u001b[0mdropout\u001b[0m\u001b[0;34m)\u001b[0m\u001b[0;34m\u001b[0m\u001b[0;34m\u001b[0m\u001b[0m\n\u001b[0;32m--> 100\u001b[0;31m         \u001b[0mout\u001b[0m \u001b[0;34m=\u001b[0m \u001b[0mself\u001b[0m\u001b[0;34m.\u001b[0m\u001b[0mlayer1\u001b[0m\u001b[0;34m(\u001b[0m\u001b[0mout\u001b[0m\u001b[0;34m)\u001b[0m\u001b[0;34m\u001b[0m\u001b[0;34m\u001b[0m\u001b[0m\n\u001b[0m\u001b[1;32m    101\u001b[0m         \u001b[0mout\u001b[0m \u001b[0;34m=\u001b[0m \u001b[0mself\u001b[0m\u001b[0;34m.\u001b[0m\u001b[0mlayer2\u001b[0m\u001b[0;34m(\u001b[0m\u001b[0mout\u001b[0m\u001b[0;34m)\u001b[0m\u001b[0;34m\u001b[0m\u001b[0;34m\u001b[0m\u001b[0m\n\u001b[1;32m    102\u001b[0m         \u001b[0mout\u001b[0m \u001b[0;34m=\u001b[0m \u001b[0mself\u001b[0m\u001b[0;34m.\u001b[0m\u001b[0mlayer3\u001b[0m\u001b[0;34m(\u001b[0m\u001b[0mout\u001b[0m\u001b[0;34m)\u001b[0m\u001b[0;34m\u001b[0m\u001b[0;34m\u001b[0m\u001b[0m\n",
            "\u001b[0;32m/usr/local/lib/python3.6/dist-packages/torch/nn/modules/module.py\u001b[0m in \u001b[0;36m__call__\u001b[0;34m(self, *input, **kwargs)\u001b[0m\n\u001b[1;32m    532\u001b[0m             \u001b[0mresult\u001b[0m \u001b[0;34m=\u001b[0m \u001b[0mself\u001b[0m\u001b[0;34m.\u001b[0m\u001b[0mforward\u001b[0m\u001b[0;34m(\u001b[0m\u001b[0;34m*\u001b[0m\u001b[0minput\u001b[0m\u001b[0;34m,\u001b[0m \u001b[0;34m**\u001b[0m\u001b[0mkwargs\u001b[0m\u001b[0;34m)\u001b[0m\u001b[0;34m\u001b[0m\u001b[0;34m\u001b[0m\u001b[0m\n\u001b[1;32m    533\u001b[0m         \u001b[0;32mfor\u001b[0m \u001b[0mhook\u001b[0m \u001b[0;32min\u001b[0m \u001b[0mself\u001b[0m\u001b[0;34m.\u001b[0m\u001b[0m_forward_hooks\u001b[0m\u001b[0;34m.\u001b[0m\u001b[0mvalues\u001b[0m\u001b[0;34m(\u001b[0m\u001b[0;34m)\u001b[0m\u001b[0;34m:\u001b[0m\u001b[0;34m\u001b[0m\u001b[0;34m\u001b[0m\u001b[0m\n\u001b[0;32m--> 534\u001b[0;31m             \u001b[0mhook_result\u001b[0m \u001b[0;34m=\u001b[0m \u001b[0mhook\u001b[0m\u001b[0;34m(\u001b[0m\u001b[0mself\u001b[0m\u001b[0;34m,\u001b[0m \u001b[0minput\u001b[0m\u001b[0;34m,\u001b[0m \u001b[0mresult\u001b[0m\u001b[0;34m)\u001b[0m\u001b[0;34m\u001b[0m\u001b[0;34m\u001b[0m\u001b[0m\n\u001b[0m\u001b[1;32m    535\u001b[0m             \u001b[0;32mif\u001b[0m \u001b[0mhook_result\u001b[0m \u001b[0;32mis\u001b[0m \u001b[0;32mnot\u001b[0m \u001b[0;32mNone\u001b[0m\u001b[0;34m:\u001b[0m\u001b[0;34m\u001b[0m\u001b[0;34m\u001b[0m\u001b[0m\n\u001b[1;32m    536\u001b[0m                 \u001b[0mresult\u001b[0m \u001b[0;34m=\u001b[0m \u001b[0mhook_result\u001b[0m\u001b[0;34m\u001b[0m\u001b[0;34m\u001b[0m\u001b[0m\n",
            "\u001b[0;32m/content/drive/My Drive/Colab Notebooks/S10/GradCam.py\u001b[0m in \u001b[0;36m_forward_hook\u001b[0;34m(module, input, output)\u001b[0m\n\u001b[1;32m     27\u001b[0m         \u001b[0;32mdef\u001b[0m \u001b[0m_wrap_forward_hook\u001b[0m\u001b[0;34m(\u001b[0m\u001b[0mlayer_name\u001b[0m\u001b[0;34m)\u001b[0m\u001b[0;34m:\u001b[0m\u001b[0;34m\u001b[0m\u001b[0;34m\u001b[0m\u001b[0m\n\u001b[1;32m     28\u001b[0m             \u001b[0;32mdef\u001b[0m \u001b[0m_forward_hook\u001b[0m\u001b[0;34m(\u001b[0m\u001b[0mmodule\u001b[0m\u001b[0;34m,\u001b[0m \u001b[0minput\u001b[0m\u001b[0;34m,\u001b[0m \u001b[0moutput\u001b[0m\u001b[0;34m)\u001b[0m\u001b[0;34m:\u001b[0m\u001b[0;34m\u001b[0m\u001b[0;34m\u001b[0m\u001b[0m\n\u001b[0;32m---> 29\u001b[0;31m                 \u001b[0mself\u001b[0m\u001b[0;34m.\u001b[0m\u001b[0mactivations_map\u001b[0m\u001b[0;34m[\u001b[0m\u001b[0mlayer_name\u001b[0m\u001b[0;34m]\u001b[0m \u001b[0;34m=\u001b[0m \u001b[0moutput\u001b[0m\u001b[0;34m.\u001b[0m\u001b[0mdetach\u001b[0m\u001b[0;34m(\u001b[0m\u001b[0;34m)\u001b[0m\u001b[0;34m\u001b[0m\u001b[0;34m\u001b[0m\u001b[0m\n\u001b[0m\u001b[1;32m     30\u001b[0m             \u001b[0;32mreturn\u001b[0m \u001b[0m_forward_hook\u001b[0m\u001b[0;34m\u001b[0m\u001b[0;34m\u001b[0m\u001b[0m\n\u001b[1;32m     31\u001b[0m         \u001b[0;32mdef\u001b[0m \u001b[0m_wrap_backward_hook\u001b[0m\u001b[0;34m(\u001b[0m\u001b[0mlayer_name\u001b[0m\u001b[0;34m)\u001b[0m\u001b[0;34m:\u001b[0m\u001b[0;34m\u001b[0m\u001b[0;34m\u001b[0m\u001b[0m\n",
            "\u001b[0;31mAttributeError\u001b[0m: 'grad_cam' object has no attribute 'activations_map'"
          ]
        }
      ]
    }
  ]
}